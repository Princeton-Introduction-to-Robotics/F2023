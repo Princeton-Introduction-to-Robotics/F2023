{
 "cells": [
  {
   "cell_type": "markdown",
   "id": "97eaee08",
   "metadata": {},
   "source": [
    "# Sample code for a live video feed #"
   ]
  },
  {
   "cell_type": "markdown",
   "id": "ec07dda4",
   "metadata": {},
   "source": [
    "The following cell will import Numpy and OpenCV, the basic building blocks for many of the functionalities you will need. These are the same packages used in previous labs."
   ]
  },
  {
   "cell_type": "code",
   "execution_count": null,
   "id": "0889300e",
   "metadata": {},
   "outputs": [],
   "source": [
    "import numpy as np\n",
    "import cv2"
   ]
  },
  {
   "cell_type": "markdown",
   "id": "f585d52c",
   "metadata": {},
   "source": [
    "Set your camera number. This may open your webcam instead of the CrazyFlie camera! If so, try a different small, positive integer, e.g. 1, 2, 3 (sometimes even -1 works depending on your computer)."
   ]
  },
  {
   "cell_type": "code",
   "execution_count": null,
   "id": "05833fe8",
   "metadata": {},
   "outputs": [],
   "source": [
    "camera = 0"
   ]
  },
  {
   "cell_type": "markdown",
   "id": "75eb421e",
   "metadata": {},
   "source": [
    "The following cell uses OpenCV to open a video device on your computer (the video player will open in a new window). This is essentially a simplified version of what you used in Lab8. In Lab8, a more sophisticated sample was provided which opened a video player and performed object detection on every frame. This utilized a neural network which was pre-trained on the Coco dataset. You can recreate that here, if you'd like."
   ]
  },
  {
   "cell_type": "code",
   "execution_count": null,
   "id": "250a08f7",
   "metadata": {},
   "outputs": [],
   "source": [
    "cap = cv2.VideoCapture(camera)\n",
    "\n",
    "while(True):\n",
    "    # Capture frame-by-frame\n",
    "    ret, frame = cap.read()\n",
    "\n",
    "\n",
    "    # Display the resulting frame\n",
    "    cv2.imshow('frame', frame)\n",
    "\n",
    "    # Hit q to quit.\n",
    "    if cv2.waitKey(1) & 0xFF == ord('q'):\n",
    "        break\n",
    "\n",
    "# Release the capture\n",
    "cap.release()\n",
    "cv2.destroyAllWindows()"
   ]
  }
 ],
 "metadata": {
  "kernelspec": {
   "display_name": "Python 3 (ipykernel)",
   "language": "python",
   "name": "python3"
  },
  "language_info": {
   "codemirror_mode": {
    "name": "ipython",
    "version": 3
   },
   "file_extension": ".py",
   "mimetype": "text/x-python",
   "name": "python",
   "nbconvert_exporter": "python",
   "pygments_lexer": "ipython3",
   "version": "3.7.13"
  }
 },
 "nbformat": 4,
 "nbformat_minor": 5
}
